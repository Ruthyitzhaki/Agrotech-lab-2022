{
  "cells": [
    {
      "cell_type": "markdown",
      "metadata": {
        "id": "view-in-github",
        "colab_type": "text"
      },
      "source": [
        "<a href=\"https://colab.research.google.com/github/Ruthyitzhaki/Agrotech-lab-2022/blob/main/Lecture06_Class_Exercise06.ipynb\" target=\"_parent\"><img src=\"https://colab.research.google.com/assets/colab-badge.svg\" alt=\"Open In Colab\"/></a>"
      ]
    },
    {
      "cell_type": "markdown",
      "source": [
        "# **Class 06**\n",
        "\n"
      ],
      "metadata": {
        "id": "TO5UYQyA-lVP"
      }
    },
    {
      "cell_type": "markdown",
      "source": [
        "For class 07, sign up here for GEE with your private Google account (not HUJI): https://signup.earthengine.google.com/"
      ],
      "metadata": {
        "id": "GvuaBI53Clg1"
      }
    },
    {
      "cell_type": "markdown",
      "source": [
        "## **Python Tip:** import your python file as a module\n"
      ],
      "metadata": {
        "id": "liXPONWbTPo4"
      }
    },
    {
      "cell_type": "markdown",
      "source": [
        "Find out my working directory:"
      ],
      "metadata": {
        "id": "sa8QDEbVQU-f"
      }
    },
    {
      "cell_type": "code",
      "source": [
        "!pwd # ! interacts with the operating system"
      ],
      "metadata": {
        "colab": {
          "base_uri": "https://localhost:8080/"
        },
        "id": "oOe-ZT2xQY_C",
        "outputId": "9b5aa737-c758-4efc-d843-8553fe8eab02"
      },
      "execution_count": 1,
      "outputs": [
        {
          "output_type": "stream",
          "name": "stdout",
          "text": [
            "/content\n"
          ]
        }
      ]
    },
    {
      "cell_type": "markdown",
      "source": [
        "Change my working directory:"
      ],
      "metadata": {
        "id": "XS5VEsimQc9A"
      }
    },
    {
      "cell_type": "code",
      "source": [
        "%cd /content/drive"
      ],
      "metadata": {
        "colab": {
          "base_uri": "https://localhost:8080/"
        },
        "id": "qaHydxwoQJ3C",
        "outputId": "ec36fd97-b839-44af-e4f6-a546837ea3df"
      },
      "execution_count": 2,
      "outputs": [
        {
          "output_type": "stream",
          "name": "stdout",
          "text": [
            "[Errno 2] No such file or directory: '/content/drive'\n",
            "/content\n"
          ]
        }
      ]
    },
    {
      "cell_type": "markdown",
      "source": [
        "Lets mount our drive"
      ],
      "metadata": {
        "id": "or6LYJfJTen9"
      }
    },
    {
      "cell_type": "code",
      "source": [
        "from google.colab import drive\n",
        "drive.mount('/content/drive')"
      ],
      "metadata": {
        "colab": {
          "base_uri": "https://localhost:8080/"
        },
        "id": "YSUUVDGYTp8N",
        "outputId": "35e1e75f-fa36-4474-f249-5991a32b7a1b"
      },
      "execution_count": 3,
      "outputs": [
        {
          "output_type": "stream",
          "name": "stdout",
          "text": [
            "Mounted at /content/drive\n"
          ]
        }
      ]
    },
    {
      "cell_type": "markdown",
      "source": [
        "Now let's change our dir to /content/drive:"
      ],
      "metadata": {
        "id": "bekUfBE6TuAx"
      }
    },
    {
      "cell_type": "code",
      "source": [
        "%cd /content/drive\n",
        "!pwd"
      ],
      "metadata": {
        "colab": {
          "base_uri": "https://localhost:8080/"
        },
        "id": "GBkYeSj8QLO8",
        "outputId": "06e47cc4-6d8a-4994-b14c-036b0396e3df"
      },
      "execution_count": 4,
      "outputs": [
        {
          "output_type": "stream",
          "name": "stdout",
          "text": [
            "/content/drive\n",
            "/content/drive\n"
          ]
        }
      ]
    },
    {
      "cell_type": "markdown",
      "source": [
        "Now lets try to import a python file as a library. I want to import the display_img.py as a module:"
      ],
      "metadata": {
        "id": "2LB8mCwRQ-cd"
      }
    },
    {
      "cell_type": "code",
      "source": [
        "# trying to import display_img\n",
        "import display_image"
      ],
      "metadata": {
        "colab": {
          "base_uri": "https://localhost:8080/",
          "height": 332
        },
        "id": "I-Tn_Z77RT-_",
        "outputId": "bd8026cd-75ce-4914-97cf-dc65cd8d90b5"
      },
      "execution_count": 5,
      "outputs": [
        {
          "output_type": "error",
          "ename": "ModuleNotFoundError",
          "evalue": "ignored",
          "traceback": [
            "\u001b[0;31m---------------------------------------------------------------------------\u001b[0m",
            "\u001b[0;31mModuleNotFoundError\u001b[0m                       Traceback (most recent call last)",
            "\u001b[0;32m<ipython-input-5-cdf7620ef6b1>\u001b[0m in \u001b[0;36m<module>\u001b[0;34m\u001b[0m\n\u001b[1;32m      1\u001b[0m \u001b[0;31m# trying to import display_img\u001b[0m\u001b[0;34m\u001b[0m\u001b[0;34m\u001b[0m\u001b[0;34m\u001b[0m\u001b[0m\n\u001b[0;32m----> 2\u001b[0;31m \u001b[0;32mimport\u001b[0m \u001b[0mdisplay_image\u001b[0m\u001b[0;34m\u001b[0m\u001b[0;34m\u001b[0m\u001b[0m\n\u001b[0m",
            "\u001b[0;31mModuleNotFoundError\u001b[0m: No module named 'display_image'",
            "",
            "\u001b[0;31m---------------------------------------------------------------------------\u001b[0;32m\nNOTE: If your import is failing due to a missing package, you can\nmanually install dependencies using either !pip or !apt.\n\nTo view examples of installing some common dependencies, click the\n\"Open Examples\" button below.\n\u001b[0;31m---------------------------------------------------------------------------\u001b[0m\n"
          ],
          "errorDetails": {
            "actions": [
              {
                "action": "open_url",
                "actionText": "Open Examples",
                "url": "/notebooks/snippets/importing_libraries.ipynb"
              }
            ]
          }
        }
      ]
    },
    {
      "cell_type": "markdown",
      "source": [
        "As you can see, there is not library called display_image!\n",
        "Let's change the directory to the folder where our python file is located:"
      ],
      "metadata": {
        "id": "HJDqBSnSRdLm"
      }
    },
    {
      "cell_type": "markdown",
      "source": [
        "![image.png](data:image/png;base64,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)"
      ],
      "metadata": {
        "id": "VJr8du98UKf6"
      }
    },
    {
      "cell_type": "markdown",
      "source": [
        "/content/drive/MyDrive/71254_2023/01_Lectures/Class06/scripts"
      ],
      "metadata": {
        "id": "4jLh35-UUBCE"
      }
    },
    {
      "cell_type": "code",
      "source": [
        "%cd /content/drive/MyDrive/71254_2023/01_Lectures/Class06/scripts"
      ],
      "metadata": {
        "id": "yJcPUoVlRB6F"
      },
      "execution_count": null,
      "outputs": []
    },
    {
      "cell_type": "markdown",
      "source": [
        "Let's just make sure that it worked:"
      ],
      "metadata": {
        "id": "TTfFwHBAROGr"
      }
    },
    {
      "cell_type": "code",
      "source": [
        "%pwd"
      ],
      "metadata": {
        "id": "oCBWcZt2Q0Pp"
      },
      "execution_count": null,
      "outputs": []
    },
    {
      "cell_type": "markdown",
      "source": [
        "Let's import again:"
      ],
      "metadata": {
        "id": "uCbXMwofRiyk"
      }
    },
    {
      "cell_type": "code",
      "source": [
        "# trying to import display_img\n",
        "import display_image"
      ],
      "metadata": {
        "id": "UF5dow-SRlvO"
      },
      "execution_count": null,
      "outputs": []
    },
    {
      "cell_type": "markdown",
      "source": [
        "Great! No error now. Let's try to use the library"
      ],
      "metadata": {
        "id": "KeSl2ALSUTGY"
      }
    },
    {
      "cell_type": "code",
      "source": [
        "path_of_image = '/content/drive/MyDrive/71254_2023/01_Lectures/Class06/images/cucs.jpg' # from the drive\n",
        "display_image.display_img_from_path(path_of_image) # using a function I wrote within the library"
      ],
      "metadata": {
        "id": "hl5iHO2gSmuv"
      },
      "execution_count": null,
      "outputs": []
    },
    {
      "cell_type": "markdown",
      "source": [
        "**Amazing! You can now create .py files with useful codes you wrote, upload them to your Drive or GitHub, and import them as module in order to use them frequently.**"
      ],
      "metadata": {
        "id": "W_xASxe8Uhv4"
      }
    },
    {
      "cell_type": "markdown",
      "source": [
        "## **Segmentation**\n",
        "\n",
        "Credit:\n",
        "\n",
        "\n",
        "*   https://felipemeganha.medium.com/image-segmentation-with-watershed-using-python-f40f2f7e9f40\n",
        "*   https://github.com/bnsreenu/python_for_microscopists\n",
        "*   https://pyimagesearch.com/2015/11/02/watershed-opencv/\n",
        "*   https://www.thepythoncode.com/article/kmeans-for-image-segmentation-opencv-python\n",
        "\n"
      ],
      "metadata": {
        "id": "0MWfHqoxtTMx"
      }
    },
    {
      "cell_type": "markdown",
      "source": [
        "### **Image segmentation using watershed**\n"
      ],
      "metadata": {
        "id": "Rkqe4ghiSzEY"
      }
    },
    {
      "cell_type": "markdown",
      "source": [
        "**Watershed segmentantion** is one of the most popular algorithm for image segmentation, normally used when we want to resolve one of the most difficult operations in image processing — separating similar objects in the image that are touching each other.\n",
        "\n",
        "In essence, we partition the image into two different sets:\n",
        "\n",
        "\n",
        "*   catchment basins — dark areas; The group of connected pixels with the same local minimum.\n",
        "*   watershed lines — Lines that divide one catchment area from another.\n",
        "\n",
        "\n",
        "**Workflow:**\n",
        "\n",
        "\n",
        "1.   Binary image\n",
        "2.   Calculate a distance transform\n",
        "3.   Find local maxima points\n",
        "4.   Label the marks\n",
        "\n",
        "\n"
      ],
      "metadata": {
        "id": "MhkuKQLIJRku"
      }
    },
    {
      "cell_type": "markdown",
      "source": [
        "Let's start.\n",
        "\n",
        "We'll import the necessary libraries and do image pre-processing:"
      ],
      "metadata": {
        "id": "Jui_gWBzJ4Wc"
      }
    },
    {
      "cell_type": "code",
      "source": [
        "# images path dec\n",
        "images_path = r'/content/drive/MyDrive/71254_2023/01_Lectures/Class06/images'\n",
        "\n",
        "# import libs\n",
        "import matplotlib.pyplot as plt\n",
        "import cv2\n",
        "import numpy as np\n",
        "from scipy import ndimage\n",
        "from skimage.feature import peak_local_max\n",
        "from skimage.segmentation import watershed\n",
        "from skimage import io, img_as_ubyte\n",
        "\n",
        "'''\n",
        "The imutils library is a series of convenience functions to make basic image processing functions such as translation,\n",
        "rotation, resizing, skeletonization, and displaying Matplotlib images easier with OpenCV and Python 3.'''\n",
        "import imutils\n",
        "\n",
        "\n",
        "# pre-processing\n",
        "img = cv2.imread(f'{images_path}/watershed_coins.jpg') # read image\n",
        "img_rgb = cv2.cvtColor(img, cv2.COLOR_BGR2RGB) # bgr to rgb\n",
        "plt.imshow(img_rgb)"
      ],
      "metadata": {
        "id": "3Bznxw0iTP2T"
      },
      "execution_count": null,
      "outputs": []
    },
    {
      "cell_type": "code",
      "source": [
        "# continued\n",
        "\n",
        "shifted = cv2.pyrMeanShiftFiltering(img, 21, 51) # mean shift filtering to aid the thresholding step. only for rgb. read more here: https://docs.opencv.org/2.4/modules/imgproc/doc/filtering.html#pyrmeanshiftfiltering\n",
        "gray = cv2.cvtColor(shifted, cv2.COLOR_BGR2GRAY) # color to gray\n",
        "thresh = cv2.threshold(gray, 0, 255, cv2.THRESH_BINARY | cv2.THRESH_OTSU)[1]\n",
        "\n",
        "# Now let us visualize the output result\n",
        "figure_size = 15\n",
        "plt.figure(figsize=(figure_size,figure_size))\n",
        "\n",
        "plt.subplot(1,3,1),plt.imshow(img_rgb)\n",
        "plt.title('Original Image')\n",
        "\n",
        "plt.subplot(1,3,2),plt.imshow(shifted, cmap='gray')\n",
        "plt.title('Mean Shifted')\n",
        "\n",
        "plt.subplot(1,3,3),plt.imshow(thresh, cmap='gray')\n",
        "plt.title('Thresholded')"
      ],
      "metadata": {
        "id": "t68x2Kk5MBze"
      },
      "execution_count": null,
      "outputs": []
    },
    {
      "cell_type": "markdown",
      "source": [
        "Now we can apply our watershed.\n",
        "\n",
        "The first step in applying the watershed algorithm for segmentation is to compute the Euclidean Distance Transform (EDT) via the distance_transform_edt function. As the name suggests, this function computes the Euclidean distance to the closest zero (i.e., background pixel) for each of the foreground (our coins) pixels."
      ],
      "metadata": {
        "id": "OYmtSQANSc64"
      }
    },
    {
      "cell_type": "code",
      "source": [
        "# compute the exact Euclidean distance from every binary\n",
        "# pixel to the nearest zero pixel, then find peaks in this\n",
        "# distance map\n",
        "D = ndimage.distance_transform_edt(thresh)\n",
        "\n",
        "# Now we take D , our distance map, and find peaks (i.e., local maxima) in the map. We’ll ensure that is at least a 20 pixel distance between each peak.\n",
        "localMax = peak_local_max(D, indices=False, min_distance=10,\n",
        "\tlabels=thresh)"
      ],
      "metadata": {
        "id": "jf68U0nRSpKA"
      },
      "execution_count": null,
      "outputs": []
    },
    {
      "cell_type": "markdown",
      "source": [
        "Now we take the output of the peak_local_max function and apply a connected-component analysis using 8-connectivity. The output of this function gives us our markers which we then feed into the watershed function. \n",
        "\n",
        "Since the watershed algorithm assumes our markers represent local minima (i.e., valleys) in our distance map, we take the negative value of D.\n",
        "\n",
        "The watershed function returns a matrix of labels , a NumPy array with the same width and height as our input image. Each pixel value as a unique label value. Pixels that have the same label value belong to the same object."
      ],
      "metadata": {
        "id": "9kikrKZbTM9E"
      }
    },
    {
      "cell_type": "code",
      "source": [
        "# perform a connected component analysis on the local peaks,\n",
        "# using 8-connectivity, then appy the Watershed algorithm\n",
        "markers = ndimage.label(localMax, structure=np.ones((3, 3)))[0]\n",
        "labels = watershed(-D, markers, mask=thresh) #  matrix of labels\n",
        "print(\"[INFO] {} unique segments found\".format(len(np.unique(labels)) - 1))"
      ],
      "metadata": {
        "id": "_YwZQm-_TLg6"
      },
      "execution_count": null,
      "outputs": []
    },
    {
      "cell_type": "markdown",
      "source": [
        "The last step is to simply loop over the unique label values and extract each of the unique objects:"
      ],
      "metadata": {
        "id": "YLg5fgKhTstb"
      }
    },
    {
      "cell_type": "code",
      "source": [
        "# loop over the unique labels returned by the Watershed algorithm\n",
        "total_area = [] # list to store areas of onjects\n",
        "\n",
        "for i,label in enumerate(np.unique(labels)):\n",
        "\t# if the label is zero, we are examining the 'background'\n",
        "\t# so simply ignore it\n",
        "\tif label == 0:\n",
        "\t\tcontinue\n",
        "\t# otherwise, allocate memory for the label region, and set the pixels belonging to the current label to 255 (white). draw it on the mask.\n",
        "\tmask = np.zeros(gray.shape, dtype=\"uint8\")\n",
        "\tmask[labels == label] = 255\n",
        "\n",
        "\n",
        "\t# detect contours in the mask and grab the largest one — this contour will represent the outline/boundary of a given object in the image.\n",
        "\tcnts = cv2.findContours(mask.copy(), cv2.RETR_EXTERNAL,\n",
        "\t\tcv2.CHAIN_APPROX_SIMPLE)\n",
        "\tcnts = imutils.grab_contours(cnts)\n",
        "\tc = max(cnts, key=cv2.contourArea)\n",
        "\t\n",
        "\t# calc area and append to list\n",
        "\tarea = cv2.contourArea(c)\n",
        "\ttotal_area.append(area)\n",
        "\tprint(f'Object number {i} has an area = ', area)\n",
        " \t\n",
        " \n",
        "\t# draw the contours enclosing the object\n",
        "\t((x, y), r) = cv2.minEnclosingCircle(c)  # We find the circumcircle of an object using the function cv.minEnclosingCircle(). It is a circle which completely covers the object with minimum area.\n",
        "\tcv2.putText(img_rgb, \"#{}\".format(label), (int(x) - 15 , int(y)), cv2.FONT_HERSHEY_SIMPLEX, 0.7, (0, 0, 255), 2) # draw the ID on the object\n",
        "\tcv2.drawContours(img_rgb, cnts, -1, (0,255,0), 1) # draw the counters\n",
        " \n",
        "# show the output image\n",
        "plt.imshow(img_rgb)"
      ],
      "metadata": {
        "id": "vsQwsTf-TtAz"
      },
      "execution_count": null,
      "outputs": []
    },
    {
      "cell_type": "markdown",
      "source": [
        "As you can see, we have successfully detected all nine coins in the image. Furthermore, we have been able to cleanly draw the boundaries surrounding each coin as well."
      ],
      "metadata": {
        "id": "8U2BrqgsV9Fl"
      }
    },
    {
      "cell_type": "markdown",
      "source": [
        "##### **TODO:** \n",
        "\n",
        "\n",
        "Write a function that will take two arguments: an image path, and min_distance (for peak_local_max). The function should display the image segmented using watershed. Test your final function, on the coins image above.\n",
        "\n",
        "Tips:\n",
        "\n",
        "\n",
        "*   cv2.pyrMeanShiftFiltering() needs RGB image. If you're source image is grayscale, then don't apply cv2.pyrMeanShiftFiltering() (and of course don't cv2.COLOR_BGR2GRAY).\n",
        "*   You may need to convert source image to 8-bit prior watershed steps.\n",
        "\n",
        "\n",
        "\n"
      ],
      "metadata": {
        "id": "l3ayrfgkrJYr"
      }
    },
    {
      "cell_type": "code",
      "source": [
        "# your code goes here"
      ],
      "metadata": {
        "id": "SKdN39nXrJuI"
      },
      "execution_count": null,
      "outputs": []
    },
    {
      "cell_type": "markdown",
      "source": [
        "### **Image segmentation using Voronoi**\n"
      ],
      "metadata": {
        "id": "vamI88AJLbUo"
      }
    },
    {
      "cell_type": "markdown",
      "source": [
        "A Voronoi diagram divides the plane into separate regions where ​each region contains exactly one generating point (seed) and​ every point in a given region is closer to its seed than to any other. ​The regions around the edge of the cluster of points extend out to infinity. \n",
        "\n",
        "For more info, watch [here](https://www.youtube.com/watch?v=g5FnaNtcCzU)."
      ],
      "metadata": {
        "id": "_J8cVkr_LhNG"
      }
    },
    {
      "cell_type": "markdown",
      "source": [
        "![image.png](data:image/png;base64,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)"
      ],
      "metadata": {
        "id": "HPP8Yu5U9u3a"
      }
    },
    {
      "cell_type": "markdown",
      "source": [
        "\n",
        "**How can Voronoi help with image segmentation?**\n",
        "\n",
        "\n",
        "*   We can find object centers and use them as seeds for Voronoi.\n",
        "*   Then threshold objects withing each voronoi region.\n",
        "\n",
        "\n",
        "**Workflow:**\n",
        "\n",
        "\n",
        "1.   Gaussian blur the image and detect maxima for each nuclei.\n",
        "2.   Threshold the input image after applying light gaussian blur (sigma=1).\n",
        "3.   Exclude maxima locations from the background, to make sure we only include the ones from nuclei.\n",
        "4.   Separate maxima locations into labels using masked voronoi.\n",
        "5.   Separate objects using watershed (wont always work)."
      ],
      "metadata": {
        "id": "IqpRioIT-Xdl"
      }
    },
    {
      "cell_type": "code",
      "source": [
        "# images path dec\n",
        "images_path = r'/content/drive/MyDrive/71254_2023/01_Lectures/Class06/images'\n",
        "\n",
        "# import libs\n",
        "from skimage import io, filters\n",
        "from scipy.spatial import Voronoi, voronoi_plot_2d\n",
        "from matplotlib import pyplot as plt\n",
        "\n",
        "# read an image of cells\n",
        "img = io.imread(f'{images_path}/cells.jpg', as_gray = True)\n",
        "\n",
        "# display it\n",
        "plt.imshow(img, cmap='gray')"
      ],
      "metadata": {
        "id": "J743u_6C9S2W"
      },
      "execution_count": null,
      "outputs": []
    },
    {
      "cell_type": "code",
      "source": [
        "# Step 1 - Gaussian blur to average local intensity variations (it will help out locate the cells in the image)\n",
        "img_blurred = filters.gaussian(img, sigma=5)\n",
        "plt.imshow(img_blurred, cmap='gray')"
      ],
      "metadata": {
        "id": "gJHHPjm8B1Lg"
      },
      "execution_count": null,
      "outputs": []
    },
    {
      "cell_type": "code",
      "source": [
        "# Step 2: Find the points representing each object, to be used for Voronoi\n",
        "from skimage.feature import peak_local_max\n",
        "coordinates = peak_local_max(img, min_distance=20, \n",
        "                             exclude_border=False)\n",
        "\n",
        "# display the local max points on the blurred image\n",
        "plt.imshow(img_blurred, cmap='gray')\n",
        "\n",
        "# Plot y versus x as markers\n",
        "# 'r.' draws the x,y as red points\n",
        "plt.plot(coordinates[:, 1], coordinates[:, 0], 'r.') "
      ],
      "metadata": {
        "id": "gwRmo58qCIrw"
      },
      "execution_count": null,
      "outputs": []
    },
    {
      "cell_type": "code",
      "source": [
        "# Step 3: Voronoi regions - we'll use the above points as seeds\n",
        "vor3 = Voronoi(coordinates) # our Voronoi diagram based on the seeds\n",
        "fig3 = voronoi_plot_2d(vor3) # creating a figure from the Voronoi diagram, so we can plot it\n",
        "plt.show() # it will show fig3"
      ],
      "metadata": {
        "id": "wtra7eDJCMuJ"
      },
      "execution_count": null,
      "outputs": []
    },
    {
      "cell_type": "markdown",
      "source": [
        "#### Using pyclesperanto package to segment based on Voronoi+Otsu"
      ],
      "metadata": {
        "id": "9DDng77DFk2J"
      }
    },
    {
      "cell_type": "code",
      "source": [
        "# first install the lib\n",
        "!pip install pyclesperanto-prototype\n",
        "\n",
        "# For installation instructions of the pyclesperanto package, \n",
        "# https://github.com/clEsperanto/pyclesperanto_prototype"
      ],
      "metadata": {
        "id": "OoQQu32WFw44"
      },
      "execution_count": null,
      "outputs": []
    },
    {
      "cell_type": "code",
      "source": [
        "# import libs\n",
        "from matplotlib import pyplot as plt\n",
        "import pyclesperanto_prototype as cle\n",
        "from skimage import io\n",
        "\n",
        "# read an image of cells\n",
        "img = io.imread(f'{images_path}/cells.jpg', as_gray = True)\n",
        "\n",
        "# display it\n",
        "plt.imshow(img, cmap='gray')"
      ],
      "metadata": {
        "id": "do6ws4SXF7ne"
      },
      "execution_count": null,
      "outputs": []
    },
    {
      "cell_type": "code",
      "source": [
        "# preparing our GPU\n",
        "\n",
        "# list names of all available GPU-devices\n",
        "print(\"Available devices:\" + str(cle.available_device_names()))"
      ],
      "metadata": {
        "id": "ILJiHJzwG1fr"
      },
      "execution_count": null,
      "outputs": []
    },
    {
      "cell_type": "code",
      "source": [
        "# select a specific GPU device from the above\n",
        "device = cle.select_device('Tesla T4')\n",
        "print(\"Used GPU: \", device)\n",
        "\n",
        "#Push the image to gpu memory\n",
        "img_gpu = cle.push(img)\n",
        "print(\"Image size in GPU: \" + str(img_gpu.shape))\n",
        "\n",
        "# display using cle (not plt)\n",
        "cle.imshow(img_gpu, color_map='gray')"
      ],
      "metadata": {
        "id": "geNQ3K59HAWS"
      },
      "execution_count": null,
      "outputs": []
    },
    {
      "cell_type": "code",
      "source": [
        "# Step 1: heavy gaussian blur the image (e.g., sigma=12) and detect maxima for each nuclei\n",
        "# heavy gaussian blurring assists in detecting maxima that reflects the objects.\n",
        "# If objects are closer, you may want to decrease the amount of blurring.\n",
        "img_gaussian = cle.gaussian_blur(img, sigma_x=8, sigma_y=8, sigma_z=8)\n",
        "plt.imshow(img_gaussian, cmap='gray')"
      ],
      "metadata": {
        "id": "8smkCD5ISVJh"
      },
      "execution_count": null,
      "outputs": []
    },
    {
      "cell_type": "code",
      "source": [
        "# Find out the maxima locations for each 'blob'\n",
        "\n",
        "img_maxima_locations = cle.detect_maxima_box(img_gaussian, radius_x=12, radius_y=12, radius_z=12)\n",
        "\n",
        "# Number of maxima locations (= number of objects)\n",
        "# This number depend on the amount of Gaussian blur\n",
        "number_of_maxima_locations = cle.sum_of_all_pixels(img_maxima_locations) # sums the points detected\n",
        "print(\"number of detected maxima locations\", number_of_maxima_locations)\n",
        "\n",
        "# View the blurred image and corresponding maxima locations\n",
        "fig, axs = plt.subplots(1, 2, figsize=(10, 10))\n",
        "cle.imshow(img_gaussian, plot=axs[0], color_map='gray')\n",
        "cle.imshow(img_maxima_locations, plot=axs[1], color_map='gray')"
      ],
      "metadata": {
        "id": "q08I49l1GZLf"
      },
      "execution_count": null,
      "outputs": []
    },
    {
      "cell_type": "code",
      "source": [
        "# Step 2: Applying another (light) gaussian blur (sigma=1), to otsu threshold the input image\n",
        "img_gaussian2 = cle.gaussian_blur(img, sigma_x=1, sigma_y=1, sigma_z=1)\n",
        "img_thresh = cle.threshold_otsu(img_gaussian2) # thresholding using otsu with cle\n",
        "\n",
        "# plotting and displaying\n",
        "fig, axs = plt.subplots(1, 2, figsize=(10, 10))\n",
        "cle.imshow(img_gaussian2, plot=axs[0], color_map='gray')\n",
        "cle.imshow(img_thresh, plot=axs[1], color_map='gray')"
      ],
      "metadata": {
        "id": "-gClXIhvH0s2"
      },
      "execution_count": null,
      "outputs": []
    },
    {
      "cell_type": "code",
      "source": [
        "# Step 3: Exclude maxima locations from the background, to make sure we only include the ones from nuclei\n",
        "\n",
        "# We take the binary spots image and the binary segmentation image \n",
        "# and apply a binary_and operation to exclude spots which were detected in the background area. \n",
        "# Those likely corresponded to noise.\n",
        "img_relevant_maxima = cle.binary_and(img_thresh, img_maxima_locations)\n",
        "\n",
        "# counting the points again\n",
        "number_of_relevant_maxima_locations = cle.sum_of_all_pixels(img_relevant_maxima)\n",
        "print(\"number of relevant maxima locations\", number_of_relevant_maxima_locations)\n",
        "\n",
        "# displaying\n",
        "fig, axs = plt.subplots(1, 3, figsize=(15, 15))\n",
        "cle.imshow(img_maxima_locations, plot=axs[0], color_map='gray')\n",
        "cle.imshow(img_thresh, plot=axs[1], color_map='gray')\n",
        "cle.imshow(img_relevant_maxima, plot=axs[2], color_map='gray')\n"
      ],
      "metadata": {
        "id": "SV8Zx917Iqmx"
      },
      "execution_count": null,
      "outputs": []
    },
    {
      "cell_type": "code",
      "source": [
        "# Step 4: Separate maxima locations into labels using masked voronoi\n",
        "\n",
        "# Creates a mask within every Voronoi region\n",
        "voronoi_separation = cle.masked_voronoi_labeling(img_relevant_maxima, img_thresh)\n",
        "\n",
        "# Display\n",
        "fig, axs = plt.subplots(1, 2, figsize=(10, 10))\n",
        "cle.imshow(img, plot=axs[0], color_map='gray')\n",
        "cle.imshow(voronoi_separation, labels=True, plot=axs[1])\n",
        "\n",
        "\n",
        "#cle.imshow(img_relevant_maxima, labels=True)\n",
        "\n",
        "#Step 5: Separate objects using watershed.\n",
        "\n",
        "#Not shown in this code..... tune to the next video\n",
        "\n",
        "#__________________________________\n"
      ],
      "metadata": {
        "id": "UYS0ry16I6BV"
      },
      "execution_count": null,
      "outputs": []
    },
    {
      "cell_type": "code",
      "source": [
        "# In order to save images from cle, you must save them as a tif file:\n",
        "io.imsave(f'{images_path}/cells_thresh.tif', img_thresh)"
      ],
      "metadata": {
        "id": "ZVnIeKo4fNY8"
      },
      "execution_count": null,
      "outputs": []
    },
    {
      "cell_type": "markdown",
      "source": [
        "##### **TODO:** \n",
        "\n",
        "\n",
        "1.   In step 3, after applying binary_and(), how many points have been removed? Can you identify them?\n",
        "2.   In step 4, notice two cells connected to eachother. Why do you think that happened? Take a look at the blurred image at step 1.Try to seprate those two cells, by changing the sigma value in the **first** blur above. If you don't succeed, apply your watershed function (that you wrote in the previous section) on the binary thresholded image (img_thresh).\n",
        "\n"
      ],
      "metadata": {
        "id": "uvla5AlEJ509"
      }
    },
    {
      "cell_type": "code",
      "source": [
        "# your answers go here"
      ],
      "metadata": {
        "id": "7OKN7aLwtanb"
      },
      "execution_count": null,
      "outputs": []
    },
    {
      "cell_type": "markdown",
      "source": [
        "#### **Using pyclesperanto package to segment based on Voronoi+Otsu - SHORT**"
      ],
      "metadata": {
        "id": "wzw536H0ybUr"
      }
    },
    {
      "cell_type": "code",
      "source": [
        "# otsu + vor + labeling\n",
        "\n",
        "\n",
        "from matplotlib import pyplot as plt\n",
        "import numpy as np\n",
        "import pyclesperanto_prototype as cle\n",
        "from skimage import exposure, img_as_ubyte\n",
        "\n",
        "#Read the input image\n",
        "# read an image of cells\n",
        "img = io.imread(f'{images_path}/cells.jpg', as_gray = True)\n",
        "\n",
        "# display it\n",
        "plt.imshow(img, cmap='gray')\n",
        "\n",
        "#Normalize then scale to 255 and convert to uint8 - using skimage\n",
        "cells_8bit = img_as_ubyte(img)\n",
        "plt.imshow(cells_8bit, cmap='gray')"
      ],
      "metadata": {
        "id": "ju3EdwUcSZcQ"
      },
      "execution_count": null,
      "outputs": []
    },
    {
      "cell_type": "code",
      "source": [
        "# preparing our GPU\n",
        "\n",
        "# list names of all available GPU-devices\n",
        "print(\"Available devices:\" + str(cle.available_device_names()))"
      ],
      "metadata": {
        "id": "52FOmxwGzj43"
      },
      "execution_count": null,
      "outputs": []
    },
    {
      "cell_type": "code",
      "source": [
        "# select a specific GPU device from the above\n",
        "device = cle.select_device('Tesla T4')\n",
        "print(\"Used GPU: \", device)\n",
        "\n",
        "#Push the image to gpu memory\n",
        "cells_gpu = cle.push(cells_8bit)\n",
        "print(\"Image size in GPU: \" + str(cells_gpu.shape))\n",
        "\n",
        "# display\n",
        "cle.imshow(cells_8bit, color_map='gray')"
      ],
      "metadata": {
        "id": "KwR78ltGzZVo"
      },
      "execution_count": null,
      "outputs": []
    },
    {
      "cell_type": "code",
      "source": [
        "############ voronoi_otsu_labeling library ##################\n",
        "# voronoi_otsu_labeling(image, spot_sigma=some_number, outline_sigma=another_number)\n",
        "#spot_sigma= depends on how close the detected objects can be. Low number may divide large objects into multiple objects.\n",
        "#outline_sigma = how precise the outline needs to be for the segmented objects (use a low number)\n",
        "segmented = cle.voronoi_otsu_labeling(cells_gpu, spot_sigma=5, \n",
        "                                      outline_sigma=1)\n",
        "cle.imshow(segmented, labels=True)"
      ],
      "metadata": {
        "id": "Au5u0onruuuJ"
      },
      "execution_count": null,
      "outputs": []
    },
    {
      "cell_type": "markdown",
      "source": [
        "**TODO:** Play with the spot_sigma value above and notice the differences."
      ],
      "metadata": {
        "id": "8qiySJnf0ly5"
      }
    },
    {
      "cell_type": "code",
      "source": [
        "# Remove edge touching objects\n",
        "segmented_excl_edges = cle.exclude_labels_on_edges(segmented)\n",
        "cle.imshow(segmented_excl_edges, labels=True)"
      ],
      "metadata": {
        "id": "lbfr0wJ6u52N"
      },
      "execution_count": null,
      "outputs": []
    },
    {
      "cell_type": "markdown",
      "source": [
        "**TODO:** Why would you exclude objects that are the edges?\n",
        "\n",
        "**Answer:** here"
      ],
      "metadata": {
        "id": "LZWJbLpz0bf1"
      }
    },
    {
      "cell_type": "code",
      "source": [
        "# Number of objects segmented\n",
        "# The maxmium intensity in a label image corresponds to the number of objects\n",
        "num_objects = cle.maximum_of_all_pixels(segmented_excl_edges)\n",
        "print(\"Total objects detected are: \", num_objects)"
      ],
      "metadata": {
        "id": "_voNBZlevAvH"
      },
      "execution_count": null,
      "outputs": []
    },
    {
      "cell_type": "code",
      "source": [
        "# Save segmented image to disk\n",
        "# save image to disk\n",
        "import skimage.io\n",
        "img_segmented_32bit_np = cle.pull(segmented_excl_edges) # pulls img from cle, convert to 32bit np array. each object has a diff int value\n",
        "plt.imshow(img_segmented_32bit_np)  \n",
        "\n",
        "io.imsave(\"result.tif\", img_segmented_32bit_np)  # must save as tif"
      ],
      "metadata": {
        "id": "LqB7phUxvG7b"
      },
      "execution_count": null,
      "outputs": []
    },
    {
      "cell_type": "markdown",
      "source": [
        "### **Image segmentation using Blob Detector**\n",
        "\n",
        "(Only read the text below, don't practice in class. You can practice at home if you want)\n"
      ],
      "metadata": {
        "id": "rT5e_eMgyHpQ"
      }
    },
    {
      "cell_type": "markdown",
      "source": [
        "Source: Apper_micro\n",
        "\n",
        "**BLOB stands for Binary Large OBject** and refers to a group of connected pixels in a binary image. A Blob is a group of connected pixels in an image that share some common property ( e.g. grayscale value ). The goal of blob detection is to identify and mark these connected regions.\n",
        "\n",
        "How it works:\n",
        "1. Threshold input images to binary.\n",
        "2. Grouping: connected white/black pixels are grouped together. \n",
        "3. Merging: blobs located closer than minDistBetweenBlobs are merged.\n",
        "4. Center & Radius Calculation :  The centers and radii of the new merged blobs are computed and returned.\n",
        "    \n",
        "Can be filtered by color, size or shape."
      ],
      "metadata": {
        "id": "WIrXimsJyQAK"
      }
    },
    {
      "cell_type": "markdown",
      "source": [
        "Read [here](https://learnopencv.com/blob-detection-using-opencv-python-c/) about implementing the Blob Detector. You can watch [this](https://www.youtube.com/watch?v=2puHfSKnG7c) video for detailed explanation."
      ],
      "metadata": {
        "id": "i2rcIoXUyjJy"
      }
    },
    {
      "cell_type": "markdown",
      "source": [
        "### **Image segmentation using K-Means**"
      ],
      "metadata": {
        "id": "AnKdKlA-zzvM"
      }
    },
    {
      "cell_type": "markdown",
      "source": [
        "K-Means clustering is an unsupervised machine learning algorithm that aims to partition N observations into K clusters in which each observation belongs to the cluster with the nearest mean. A cluster refers to a collection of data points aggregated together because of certain similarities. For image segmentation, clusters here are different image colors/values.\n",
        "\n",
        "Click [here](https://qr.ae/pr7PZM) to read about what's the difference between Voronoi and K-means."
      ],
      "metadata": {
        "id": "ogo4eTz-CEXn"
      }
    },
    {
      "cell_type": "code",
      "source": [
        "#k means\n",
        "\n",
        "__author__ = \"Sreenivas Bhattiprolu\"\n",
        "__license__ = \"Feel free to copy, I appreciate if you acknowledge Python for Microscopists\"\n",
        "# https://www.youtube.com/watch?v=6CqRnx6Ic48\n",
        "\n",
        "import numpy as np\n",
        "import cv2\n",
        "\n",
        "\n",
        "# read an image of pebbles\n",
        "img = io.imread(f'{images_path}/sand.jpg', as_gray = False)\n",
        "\n",
        "# display it\n",
        "plt.imshow(img, cmap='gray')"
      ],
      "metadata": {
        "id": "qGOqUz_Y4Zgv"
      },
      "execution_count": null,
      "outputs": []
    },
    {
      "cell_type": "markdown",
      "source": [
        "We going to use the cv2.kmeans() function, which takes a 2D array as input, and since our original image is 3D (width, height, and depth of 3 RGB values), we need to flatten the height and width into a single vector of pixels (3 RGB values):"
      ],
      "metadata": {
        "id": "WOLx3wyN5lvN"
      }
    },
    {
      "cell_type": "code",
      "source": [
        "# Convert MxNx3 image into Kx3 where K=MxN\n",
        "pixel_values  = img.reshape((-1,3))  #-1 reshape means, in this case MxN\n",
        "\n",
        "#We convert the unit8 values to float as it is a requirement of the k-means method of OpenCV\n",
        "pixel_values = np.float32(pixel_values)"
      ],
      "metadata": {
        "id": "Cjx59l8b4dID"
      },
      "execution_count": null,
      "outputs": []
    },
    {
      "cell_type": "markdown",
      "source": [
        "Let's try to print the shape of the resulting pixel values:"
      ],
      "metadata": {
        "id": "Nt1Blwrx5uhF"
      }
    },
    {
      "cell_type": "code",
      "source": [
        "print(pixel_values.shape)\n",
        "print(f'As expected, this results from flattening a high resolution {img.shape} image.')"
      ],
      "metadata": {
        "id": "3pOPbERc5trk"
      },
      "execution_count": null,
      "outputs": []
    },
    {
      "cell_type": "markdown",
      "source": [
        "**Define criteria, number of clusters and apply k-means:**\n",
        "We are going to stop the algorithm either when some number of iterations is exceeded (say 100), or if the clusters move less than some epsilon value (let's pick 0.2 here).\n",
        "\n",
        "When this criterion is satisfied, the algorithm iteration stops. \n",
        "* cv.TERM_CRITERIA_EPS — stop the algorithm iteration if specified accuracy, epsilon, is reached.\n",
        "* cv.TERM_CRITERIA_MAX_ITER — stop the algorithm after the specified number of iterations, max_iter.\n",
        "* cv.TERM_CRITERIA_EPS + cv.TERM_CRITERIA_MAX_ITER — stop the iteration when any of the above condition is met.\n",
        "\n",
        "The below code defines the stopping criteria in OpenCV:"
      ],
      "metadata": {
        "id": "U-N7FsE74uHL"
      }
    },
    {
      "cell_type": "code",
      "source": [
        "# define stopping criteria\n",
        "criteria = (cv2.TERM_CRITERIA_EPS + cv2.TERM_CRITERIA_MAX_ITER, 100, 0.2)"
      ],
      "metadata": {
        "id": "jCL5tq0Oz0un"
      },
      "execution_count": null,
      "outputs": []
    },
    {
      "cell_type": "markdown",
      "source": [
        "If you look at the image, there are four primary colors. As a result, we going to use 4 clusters for this image:"
      ],
      "metadata": {
        "id": "Gsbsr2Fg6Wdg"
      }
    },
    {
      "cell_type": "code",
      "source": [
        "# number of clusters (K)\n",
        "k = 4"
      ],
      "metadata": {
        "id": "hcyKcEr-7LWC"
      },
      "execution_count": null,
      "outputs": []
    },
    {
      "cell_type": "markdown",
      "source": [
        "labels array is the cluster label for each pixel which is either 0, 1, or 2, etc.., centers refer to the center points (each centroid's value).\n",
        "\n",
        "cv2.KMEANS_RANDOM_CENTERS just indicates OpenCV to randomly assign the values of the clusters initially.\n",
        "\n",
        "attempts : Flag to specify the number of times the algorithm is executed using different initial labellings. The algorithm returns the labels that yield the best compactness. This compactness is returned as output."
      ],
      "metadata": {
        "id": "DzsQiDSo7PE-"
      }
    },
    {
      "cell_type": "code",
      "source": [
        "attempts = 10\n",
        "_, labels, (centers) = cv2.kmeans(pixel_values, k, None, criteria, attempts, cv2.KMEANS_RANDOM_CENTERS)"
      ],
      "metadata": {
        "id": "xOksULZB7UqF"
      },
      "execution_count": null,
      "outputs": []
    },
    {
      "cell_type": "markdown",
      "source": [
        "We converted the flattened image pixel values to floats; we did that because cv2.kmeans() expects that, let's convert them back to 8-bit pixel values:"
      ],
      "metadata": {
        "id": "IX7ePfRo7deL"
      }
    },
    {
      "cell_type": "code",
      "source": [
        "# convert back to 8 bit values\n",
        "centers = np.uint8(centers)\n",
        "\n",
        "# flatten the labels array\n",
        "labels = labels.flatten()"
      ],
      "metadata": {
        "id": "OAGOguJ57hhy"
      },
      "execution_count": null,
      "outputs": []
    },
    {
      "cell_type": "markdown",
      "source": [
        "Now let's construct the segmented image:"
      ],
      "metadata": {
        "id": "AzuYjyou7q82"
      }
    },
    {
      "cell_type": "code",
      "source": [
        "# convert all pixels to the color of the centroids\n",
        "segmented_image = centers[labels.flatten()]"
      ],
      "metadata": {
        "id": "wntt1gW97rkO"
      },
      "execution_count": null,
      "outputs": []
    },
    {
      "cell_type": "markdown",
      "source": [
        "Converting back to the original image shape and showing it:"
      ],
      "metadata": {
        "id": "Nf5hJy207tOU"
      }
    },
    {
      "cell_type": "code",
      "source": [
        "# reshape back to the original image dimension\n",
        "segmented_image = segmented_image.reshape(img.shape)\n",
        "# show the image\n",
        "plt.imshow(segmented_image)\n",
        "plt.show()"
      ],
      "metadata": {
        "id": "a4M7VAFR7u3b"
      },
      "execution_count": null,
      "outputs": []
    },
    {
      "cell_type": "markdown",
      "source": [
        "Great! We can also disable some clusters in the image. For instance, let's exclue all pixels that aren't grass (= let's segment the grass):"
      ],
      "metadata": {
        "id": "Odl2Tbkj9QlU"
      }
    },
    {
      "cell_type": "code",
      "source": [
        "# we take a look at the centers of the diff objects\n",
        "print(centers)\n",
        "\n",
        "# from trial and error, I found that the row ([90,103,55]) is the grass!"
      ],
      "metadata": {
        "id": "7fq8FJHrGIwb"
      },
      "execution_count": null,
      "outputs": []
    },
    {
      "cell_type": "code",
      "source": [
        "# lets get the index of the grass row \n",
        "\n",
        "for i,center in enumerate(centers):\n",
        "  if np.all(center == ([90,103,55])):\n",
        "    grass_center_index = i\n",
        "    print(grass_center_index)"
      ],
      "metadata": {
        "id": "ZZxzWpdrGzO-"
      },
      "execution_count": null,
      "outputs": []
    },
    {
      "cell_type": "code",
      "source": [
        "# copy source img\n",
        "masked_image = img.copy()\n",
        "\n",
        "# convert to the shape of a vector of pixel values (like suits for kmeans)\n",
        "masked_image = masked_image.reshape((-1, 3))\n",
        "\n",
        "# color (i.e cluster) to exclude\n",
        "list_of_cluster_numbers_to_exclude = list(range(k)) # create a list that has the number from 0 to k-1\n",
        "list_of_cluster_numbers_to_exclude.remove(grass_center_index) # remove the cluster of grass that we want to keep, and not black out\n",
        "for cluster in list_of_cluster_numbers_to_exclude:\n",
        "  masked_image[labels== cluster] = [0, 0, 0] # black all clusters except cluster 3\n",
        "\n",
        "# convert back to original shape\n",
        "masked_image = masked_image.reshape(img.shape)\n",
        "\n",
        "# show the image\n",
        "plt.imshow(masked_image)"
      ],
      "metadata": {
        "id": "5S8mLPQU9Ckf"
      },
      "execution_count": null,
      "outputs": []
    },
    {
      "cell_type": "code",
      "source": [
        "# detect contours in an image and grab the largest one — this contour will represent the outline/boundary of a given object in the image.\n",
        "gray = cv2.cvtColor(masked_image, cv2.COLOR_RGB2GRAY) # color to gray\n",
        "thresh = cv2.threshold(gray, 0, 255, cv2.THRESH_BINARY)[1] # threshold the gray\n",
        "cnts = cv2.findContours(thresh, cv2.RETR_EXTERNAL, cv2.CHAIN_APPROX_SIMPLE) # find the boundaries \n",
        "cnts = imutils.grab_contours(cnts) \n",
        "c = max(cnts, key=cv2.contourArea)\n",
        "\n",
        "# draw the contours enclosing the object\n",
        "cv2.drawContours(img, cnts, -1, (0,255,0), 1) # draw the counters\n",
        "\n",
        "# calc number of pixels within the object and append to list\n",
        "area = cv2.contourArea(c)\n",
        "print(f'Object has an area = ', area, 'pixels')\n",
        "\n",
        "plt.imshow(img, cmap='Greens')"
      ],
      "metadata": {
        "id": "O10JX3fiCsjb"
      },
      "execution_count": null,
      "outputs": []
    },
    {
      "cell_type": "markdown",
      "source": [
        "**TODO:** How can the segmented grass be usefull for you? Assuming you have several images of above, during the entire summer (let's say, one image per week).\n",
        "\n",
        "**Answer:** here!\n"
      ],
      "metadata": {
        "id": "Sd5mBvkCA2ve"
      }
    },
    {
      "cell_type": "markdown",
      "source": [
        "Now let's try to segment our clouds:"
      ],
      "metadata": {
        "id": "sHDOzZrIALmY"
      }
    },
    {
      "cell_type": "code",
      "source": [
        "# we take a look at the centers of the diff objects\n",
        "print(centers)\n",
        "\n",
        "# from trial and error, I found that the row ([229,219,193]) is the clouds!"
      ],
      "metadata": {
        "id": "CUhc37GFJAXE"
      },
      "execution_count": null,
      "outputs": []
    },
    {
      "cell_type": "code",
      "source": [
        "# lets get the index of the clouds row \n",
        "\n",
        "for i,center in enumerate(centers):\n",
        "  if np.all(center == ([229,219,193])):\n",
        "    clouds_center_index = i\n",
        "    print(clouds_center_index)"
      ],
      "metadata": {
        "id": "iTgjvsRcI8sO"
      },
      "execution_count": null,
      "outputs": []
    },
    {
      "cell_type": "code",
      "source": [
        "# copy source img\n",
        "masked_image = img.copy()\n",
        "\n",
        "# convert to the shape of a vector of pixel values (like suits for kmeans)\n",
        "masked_image = masked_image.reshape((-1, 3))\n",
        "\n",
        "# color (i.e cluster) to exclude\n",
        "list_of_cluster_numbers_to_exclude = list(range(k)) # create a list that has the number from 0 to k-1\n",
        "list_of_cluster_numbers_to_exclude.remove(clouds_center_index) # remove the cluster of clouds that we want to keep, and not black out\n",
        "for cluster in list_of_cluster_numbers_to_exclude:\n",
        "  masked_image[labels== cluster] = [0, 0, 0] # black all clusters except the clouds cluster\n",
        "\n",
        "# convert back to original shape\n",
        "masked_image = masked_image.reshape(img.shape)\n",
        "\n",
        "# show the image\n",
        "plt.imshow(masked_image)"
      ],
      "metadata": {
        "id": "U3o9x1Io_-Hb"
      },
      "execution_count": null,
      "outputs": []
    },
    {
      "cell_type": "markdown",
      "source": [
        "**Not good!** We see that the clouds and the sand (and some of the grass) are the same cluster!"
      ],
      "metadata": {
        "id": "Tpme6sHrAZWV"
      }
    },
    {
      "cell_type": "markdown",
      "source": [
        "##### **TODO:** \n",
        "\n",
        "1. Rewrite the code, by changing one (or more) of the above parameters, in order to segment the clouds. \n",
        "2. If each pixel is $5 [m^2]$, find the area of the clouds. Display the result in $[m^2]$ . \n"
      ],
      "metadata": {
        "id": "jqet8_TMAf6H"
      }
    },
    {
      "cell_type": "code",
      "source": [
        "# your code goes here"
      ],
      "metadata": {
        "id": "arZc5rf-Ar2b"
      },
      "execution_count": null,
      "outputs": []
    },
    {
      "cell_type": "markdown",
      "source": [
        "## Interacting with user"
      ],
      "metadata": {
        "id": "KaKGhhWt5PYL"
      }
    },
    {
      "cell_type": "markdown",
      "source": [
        "### Colab Forms"
      ],
      "metadata": {
        "id": "RLO6JoO_OAyJ"
      }
    },
    {
      "cell_type": "markdown",
      "source": [
        "Forms provide an easy way to parameterize code. From a code cell, select **Insert → Add form field**.  When you change the value in a form, the corresponding value in the code will change. "
      ],
      "metadata": {
        "id": "tkCXfr3nKe4I"
      }
    },
    {
      "cell_type": "code",
      "source": [
        "#@title String fields\n",
        "\n",
        "text = 'title' #@param {type:\"string\"}\n",
        "dropdown = '1st option' #@param [\"1st option\", \"2nd option\", \"3rd option\"]\n",
        "text_and_dropdown = 'value' #@param [\"1st option\", \"2nd option\", \"3rd option\"] {allow-input: true}\n",
        "\n",
        "print(text)\n",
        "print(dropdown)\n",
        "print(text_and_dropdown)"
      ],
      "metadata": {
        "id": "X0vshlSaKmxy"
      },
      "execution_count": null,
      "outputs": []
    },
    {
      "cell_type": "code",
      "source": [
        "#@title Date fields\n",
        "date_input = '2018-03-22' #@param {type:\"date\"}\n",
        "\n",
        "print(date_input)"
      ],
      "metadata": {
        "id": "ORPqYIvDLJIU"
      },
      "execution_count": null,
      "outputs": []
    },
    {
      "cell_type": "code",
      "source": [
        "#@title Number fields\n",
        "number_input = 10.0 #@param {type:\"number\"}\n",
        "number_slider = 0 #@param {type:\"slider\", min:-1, max:1, step:0.1}\n",
        "\n",
        "integer_input = 10 #@param {type:\"integer\"}\n",
        "integer_slider = 1 #@param {type:\"slider\", min:0, max:100, step:1}\n",
        "\n",
        "print(number_input)\n",
        "print(number_slider)\n",
        "\n",
        "print(integer_input)\n",
        "print(integer_slider)"
      ],
      "metadata": {
        "id": "SYXDgcf3LLA8"
      },
      "execution_count": null,
      "outputs": []
    },
    {
      "cell_type": "markdown",
      "source": [
        "**Hiding code**\n",
        "\n",
        "You can change the view of the form by selecting **View → Show/hide code** or using the toolbar above the selected code cell. You can see both code and the form, just the form, or just the code."
      ],
      "metadata": {
        "id": "FtT6lSQRLVea"
      }
    },
    {
      "cell_type": "code",
      "source": [
        "#@title Click `Show code` in the code cell. { display-mode: \"form\" }\n",
        "\n",
        "option1 = 'A' #@param [\"A\", \"B\", \"C\"]\n",
        "print('You selected', option1)"
      ],
      "metadata": {
        "id": "QVTG1aczLY4Q"
      },
      "execution_count": null,
      "outputs": []
    },
    {
      "cell_type": "markdown",
      "source": [
        "### **Uploading files or images**\n",
        "\n",
        "You can ask the user to upload files through a browse button, using google.colab.files.upload()"
      ],
      "metadata": {
        "id": "PF8mAdJSL5R7"
      }
    },
    {
      "cell_type": "code",
      "source": [
        "#@title UPLOAD IMAGES HERE: RUN ME.  { display-mode: \"form\" }\n",
        "from google.colab import files\n",
        "\n",
        "try:\n",
        "  uploaded = files.upload()\n",
        "except:\n",
        "  print(\"\")\n",
        "  print(\"Please use Chrome, and enable cookies!\")\n",
        "  print(\"cookie אנא היכנסו דרך דפדפן כרום במחשב, והפעילו גישה לקבצי \")\n",
        "\n",
        "# lets the user upload the file, and stores the file name in 'file_names'. The files are uploaded under /content/FILE_NAME\n",
        "file_names = uploaded.keys() "
      ],
      "metadata": {
        "id": "RpLXsTIYLgJI"
      },
      "execution_count": null,
      "outputs": []
    },
    {
      "cell_type": "markdown",
      "source": [
        "As mentioned, the files are uploaded to the folder /content/. You should transfer them to your working folder if needed using shutil.move()."
      ],
      "metadata": {
        "id": "6c4cZ5ykMdxJ"
      }
    },
    {
      "cell_type": "markdown",
      "source": [
        "You can use files.download(path_to_file) to download the file to the users computer."
      ],
      "metadata": {
        "id": "vnZFKdomNF5H"
      }
    },
    {
      "cell_type": "code",
      "source": [
        "# lets convert our file names into a list of of file names\n",
        "list_file_paths = list(file_names)\n",
        "list_file_paths"
      ],
      "metadata": {
        "id": "drM4fqFFNSmg"
      },
      "execution_count": null,
      "outputs": []
    },
    {
      "cell_type": "code",
      "source": [
        "#@title Downloading files: Example, downloading the first uploaded file above. RUN ME!  { display-mode: \"form\" }\n",
        "files.download(list_file_paths[0])"
      ],
      "metadata": {
        "id": "HaJgxX6UMEPr"
      },
      "execution_count": null,
      "outputs": []
    },
    {
      "cell_type": "markdown",
      "source": [
        "### **TODO:** \n",
        "\n",
        "Understand well how the forms and files module works, since you'll practice it in the homework.\n"
      ],
      "metadata": {
        "id": "aF5q4_xIOJ4U"
      }
    },
    {
      "cell_type": "markdown",
      "source": [
        "## Measure object size with AruCo Marker"
      ],
      "metadata": {
        "id": "hElWW97wA5bA"
      }
    },
    {
      "cell_type": "markdown",
      "source": [
        "In this post, you will use an ArUco marker with a predefined size and ID as a reference to calculate the pixel to inch conversion and then use the conversion ratio to find the dimension of different objects in the image."
      ],
      "metadata": {
        "id": "Sa9jUIDxA86o"
      }
    },
    {
      "cell_type": "markdown",
      "source": [
        "The ArUco markers are fiducial square markers used for camera pose estimation. An ArUco marker is a synthetic square marker with an internal binary matrix enclosed within a wide black color border with a Unique Identifier."
      ],
      "metadata": {
        "id": "1DiQCsHJBAYf"
      }
    },
    {
      "cell_type": "markdown",
      "source": [
        "Follow one of the following tutorials to measure an object size with an AruCo marker:\n",
        "\n",
        "\n",
        "*   [Source 1](https://arshren.medium.com/measure-object-size-using-opencv-and-aruco-marker-fa8b2e3b0572)\n",
        "*   [Source 2](https://pysource.com/2021/05/28/measure-size-of-an-object-with-opencv-aruco-marker-and-python/)\n",
        "*   [Source 3](https://docs.opencv.org/4.x/d5/dae/tutorial_aruco_detection.html)\n",
        "\n"
      ],
      "metadata": {
        "id": "VwyAjWV9BGjH"
      }
    }
  ],
  "metadata": {
    "kernelspec": {
      "display_name": "Python 3",
      "language": "python",
      "name": "python3"
    },
    "language_info": {
      "codemirror_mode": {
        "name": "ipython",
        "version": 3
      },
      "file_extension": ".py",
      "mimetype": "text/x-python",
      "name": "python",
      "nbconvert_exporter": "python",
      "pygments_lexer": "ipython3",
      "version": "3.7.3"
    },
    "colab": {
      "provenance": [],
      "collapsed_sections": [
        "liXPONWbTPo4",
        "Rkqe4ghiSzEY",
        "vamI88AJLbUo",
        "rT5e_eMgyHpQ"
      ],
      "include_colab_link": true
    },
    "accelerator": "GPU",
    "gpuClass": "standard"
  },
  "nbformat": 4,
  "nbformat_minor": 0
}